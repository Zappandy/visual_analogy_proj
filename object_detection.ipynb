{
 "cells": [
  {
   "cell_type": "code",
   "execution_count": 15,
   "id": "61c4992a",
   "metadata": {
    "scrolled": true
   },
   "outputs": [
    {
     "name": "stdout",
     "output_type": "stream",
     "text": [
      "Detected person with confidence 0.997 at location [723.56, 44.21, 1018.72, 675.57]\n",
      "Detected person with confidence 0.997 at location [276.23, 85.83, 508.97, 675.63]\n",
      "Detected person with confidence 0.979 at location [21.76, 83.39, 345.6, 674.8]\n",
      "Detected laptop with confidence 0.909 at location [414.44, 375.63, 487.14, 453.03]\n",
      "Detected person with confidence 0.994 at location [459.46, 58.55, 781.43, 675.0]\n"
     ]
    }
   ],
   "source": [
    "from transformers import DetrFeatureExtractor, DetrForObjectDetection\n",
    "import torch\n",
    "from PIL import Image\n",
    "import requests\n",
    "import timm\n",
    "#url = \"https://st2.depositphotos.com/3662505/6878/i/950/depositphotos_68789187-stock-photo-students.jpg\"\n",
    "image=Image.open('./images/myimage.jpg')\n",
    "#image = Image.open(requests.get(url, stream=True).raw)\n",
    "\n",
    "feature_extractor = DetrFeatureExtractor.from_pretrained(\"facebook/detr-resnet-50\")\n",
    "model = DetrForObjectDetection.from_pretrained(\"facebook/detr-resnet-50\")\n",
    "\n",
    "inputs = feature_extractor(images=image, return_tensors=\"pt\")\n",
    "outputs = model(**inputs)\n",
    "\n",
    "# convert outputs (bounding boxes and class logits) to COCO API\n",
    "target_sizes = torch.tensor([image.size[::-1]])\n",
    "results = feature_extractor.post_process(outputs, target_sizes=target_sizes)[0]\n",
    "\n",
    "for score, label, box in zip(results[\"scores\"], results[\"labels\"], results[\"boxes\"]):\n",
    "    box = [round(i, 2) for i in box.tolist()]\n",
    "    # let's only keep detections with score > 0.9\n",
    "    if score > 0.9:\n",
    "        print(\n",
    "            f\"Detected {model.config.id2label[label.item()]} with confidence \"\n",
    "            f\"{round(score.item(), 3)} at location {box}\"\n",
    "        )"
   ]
  },
  {
   "cell_type": "code",
   "execution_count": 16,
   "id": "f875548a",
   "metadata": {
    "scrolled": false
   },
   "outputs": [
    {
     "name": "stdout",
     "output_type": "stream",
     "text": [
      "[723.56, 44.21, 1018.72, 675.57]\n",
      "box1.jpg\n",
      "[276.23, 85.83, 508.97, 675.63]\n",
      "box2.jpg\n",
      "[21.76, 83.39, 345.6, 674.8]\n",
      "box3.jpg\n",
      "[414.44, 375.63, 487.14, 453.03]\n",
      "box4.jpg\n",
      "[459.46, 58.55, 781.43, 675.0]\n",
      "box5.jpg\n"
     ]
    }
   ],
   "source": [
    "title=''\n",
    "image_path = \"./images/\"\n",
    "nbr=1 \n",
    "for score, label, box in zip(results[\"scores\"], results[\"labels\"], results[\"boxes\"]):\n",
    "    box = [round(i, 2) for i in box.tolist()]\n",
    "    # let's only keep detections with score > 0.9\n",
    "    if score > 0.9:\n",
    "        print(\n",
    "            #f\"Detected {model.config.id2label[label.item()]} with confidence \"\n",
    "            #f\"{round(score.item(), 3)} at location {box}\"\n",
    "            f\"{box}\"\n",
    "            \n",
    "        )\n",
    "        title = 'box'+str(nbr)+'.jpg'\n",
    "        img2 = image.crop(box)\n",
    "        #img2.show()\n",
    "        img2 = img2.convert('RGB')\n",
    "        img2.save(f\"{image_path}/\"+title)\n",
    "        print(title)\n",
    "        nbr += 1"
   ]
  },
  {
   "cell_type": "code",
   "execution_count": null,
   "id": "906edaf9",
   "metadata": {},
   "outputs": [],
   "source": []
  }
 ],
 "metadata": {
  "kernelspec": {
   "display_name": "Python 3 (ipykernel)",
   "language": "python",
   "name": "python3"
  },
  "language_info": {
   "codemirror_mode": {
    "name": "ipython",
    "version": 3
   },
   "file_extension": ".py",
   "mimetype": "text/x-python",
   "name": "python",
   "nbconvert_exporter": "python",
   "pygments_lexer": "ipython3",
   "version": "3.9.12"
  }
 },
 "nbformat": 4,
 "nbformat_minor": 5
}
