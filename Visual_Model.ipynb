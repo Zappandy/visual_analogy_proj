{
 "cells": [
  {
   "cell_type": "code",
   "execution_count": 1,
   "id": "f6b3563a-5944-41e4-9577-0f345d4105e6",
   "metadata": {},
   "outputs": [
    {
     "name": "stderr",
     "output_type": "stream",
     "text": [
      "/home/andres-gon/Documents/LCT-Tasks/UoL/courses/software_project/visual_snake/lib/python3.10/site-packages/tqdm/auto.py:22: TqdmWarning: IProgress not found. Please update jupyter and ipywidgets. See https://ipywidgets.readthedocs.io/en/stable/user_install.html\n",
      "  from .autonotebook import tqdm as notebook_tqdm\n"
     ]
    }
   ],
   "source": [
    "import torch\n",
    "import cv2\n",
    "import os\n",
    "import re\n",
    "from matplotlib import pyplot as plt\n",
    "from PIL import Image\n",
    "from transformers import pipeline\n",
    "from torch.utils.data import Dataset, DataLoader\n",
    "from transformers import VisionEncoderDecoderModel, ViTFeatureExtractor, AutoTokenizer, DetrFeatureExtractor, DetrForObjectDetection\n",
    "import timm  # needed for resnet"
   ]
  },
  {
   "cell_type": "code",
   "execution_count": 2,
   "id": "29aacec4-86ea-4334-b22d-b370ab0634d7",
   "metadata": {},
   "outputs": [
    {
     "name": "stderr",
     "output_type": "stream",
     "text": [
      "Downloading: 100%|█████████████████████████████████████████████████████████████████████████████████████████████████████████████████████████████████████████████████████████| 665/665 [00:00<00:00, 420kB/s]\n",
      "Downloading: 100%|██████████████████████████████████████████████████████████████████████████████████████████████████████████████████████████████████████████████████████| 548M/548M [00:32<00:00, 16.7MB/s]\n",
      "Downloading: 100%|████████████████████████████████████████████████████████████████████████████████████████████████████████████████████████████████████████████████████| 1.04M/1.04M [00:00<00:00, 1.68MB/s]\n",
      "Downloading: 100%|███████████████████████████████████████████████████████████████████████████████████████████████████████████████████████████████████████████████████████| 456k/456k [00:00<00:00, 740kB/s]\n",
      "Downloading: 100%|█████████████████████████████████████████████████████████████████████████████████████████████████████████████████████████████████████████████████████| 1.36M/1.36M [00:02<00:00, 600kB/s]\n"
     ]
    },
    {
     "name": "stdout",
     "output_type": "stream",
     "text": [
      "\n"
     ]
    }
   ],
   "source": [
    "encoder_model = VisionEncoderDecoderModel.from_pretrained(\"nlpconnect/vit-gpt2-image-captioning\")\n",
    "encoder_feature_extractor = ViTFeatureExtractor.from_pretrained(\"nlpconnect/vit-gpt2-image-captioning\")\n",
    "tokenizer = AutoTokenizer.from_pretrained(\"nlpconnect/vit-gpt2-image-captioning\")\n",
    "\n",
    "gpt2_generator = pipeline('text-generation', model='gpt2')\n",
    "# not doing object detection for now due to issues with paintings and cartoon-like images\n",
    "# obj_feature_extractor = DetrFeatureExtractor.from_pretrained(\"facebook/detr-resnet-50\")\n",
    "# obj_dect_model = DetrForObjectDetection.from_pretrained(\"facebook/detr-resnet-50\")\n",
    "\n",
    "device = torch.device(\"cuda\" if torch.cuda.is_available() else \"cpu\")\n",
    "device = \"cpu\"\n",
    "\n",
    "encoder_model.to(device)\n",
    "#obj_dect_model.to(device)\n",
    "print()"
   ]
  },
  {
   "cell_type": "code",
   "execution_count": 21,
   "id": "be16bb55-17b5-4a82-9912-602a2f0140be",
   "metadata": {},
   "outputs": [],
   "source": [
    "class ImageDataset(Dataset):\n",
    "\n",
    "    def __init__(self, image_dir):\n",
    "        \"\"\"Initialize the attributes of the object of the class.\"\"\"\n",
    "        self.image_dir = image_dir\n",
    "        image_path_jpeg = sorted(self.find_files(image_dir, pattern=\".jpeg\"))\n",
    "        image_path_png = sorted(self.find_files(image_dir, pattern=\".png\"))\n",
    "        self.image_path_list = image_path_jpeg + image_path_png\n",
    "\n",
    "    def __len__(self):\n",
    "        \"\"\"Return the size of the dataset.\"\"\"\n",
    "        return len(self.image_path_list)\n",
    "\n",
    "    def __getitem__(self, index):\n",
    "        \"\"\"Return a data sample (=image) for a given index, along with the name of the corresponding pokemon.\"\"\"\n",
    "        \n",
    "        return self.image_path_list[index]        \n",
    "    \n",
    "    def find_files(self, directory, pattern=\".jpg\"):\n",
    "        \"\"\"\n",
    "        Recursive search method to find files. Credit to Paul Magron and Andrea de Marco\n",
    "        for OG method\n",
    "        \"\"\"\n",
    "\n",
    "        return  [f.path for f in os.scandir(directory) if f.path.endswith(pattern)]"
   ]
  },
  {
   "cell_type": "code",
   "execution_count": 22,
   "id": "f267161c-cc12-4146-80bc-20e009e09ebd",
   "metadata": {},
   "outputs": [],
   "source": [
    "def predictive_step(im_path, im_reader=\"PIL\", max_len=16, num_beams=4):\n",
    "    gen_kwargs = {\"max_length\": max_len, \"num_beams\": num_beams}\n",
    "    all_ims = []\n",
    "    for im in im_path:\n",
    "        #i_image = Image.open(im)        \n",
    "        i_image = cv2.imread(im)        \n",
    "        #if i_image.mode != \"RGB\":            \n",
    "            #i_image = i_image.convert(mode=\"RGB\")\n",
    "        all_ims.append(i_image)\n",
    "    \n",
    "    pixel_values = encoder_feature_extractor(images=all_ims, return_tensors=\"pt\").pixel_values\n",
    "    pixel_values = pixel_values.to(device)\n",
    "    output_ids = encoder_model.generate(pixel_values, **gen_kwargs)\n",
    "    \n",
    "    preds = tokenizer.batch_decode(output_ids, skip_special_tokens=True)\n",
    "    preds = [pred.strip() for pred in preds]\n",
    "    return preds"
   ]
  },
  {
   "cell_type": "code",
   "execution_count": 23,
   "id": "217e1927-59cf-41db-8603-16f32ff55a4b",
   "metadata": {},
   "outputs": [],
   "source": [
    "og_images_path = ImageDataset(\"./images_to_test_sys\")\n",
    "\n",
    "#predictive_step()"
   ]
  },
  {
   "cell_type": "code",
   "execution_count": 24,
   "id": "b719ca86-3202-4329-97f0-60418df75dcf",
   "metadata": {},
   "outputs": [
    {
     "name": "stdout",
     "output_type": "stream",
     "text": [
      "['./images_to_test_sys/original_demo_image_0.png']\n"
     ]
    },
    {
     "data": {
      "text/plain": [
       "['a river flowing through a forest filled with trees']"
      ]
     },
     "execution_count": 24,
     "metadata": {},
     "output_type": "execute_result"
    }
   ],
   "source": [
    "sample = og_images_path[2:3]\n",
    "print(sample)\n",
    "predictive_step(sample)  # passing as a list to be able to iterate"
   ]
  },
  {
   "cell_type": "code",
   "execution_count": 25,
   "id": "7391a795-da19-45f9-abdc-4095b2d0a980",
   "metadata": {},
   "outputs": [],
   "source": [
    "img = Image.open(sample[0])  # we use PIL for demo purposes\n",
    "img.show()"
   ]
  },
  {
   "cell_type": "code",
   "execution_count": 40,
   "id": "41d01844-2202-4ac0-9dd1-1d22cb9a488f",
   "metadata": {},
   "outputs": [
    {
     "name": "stdout",
     "output_type": "stream",
     "text": [
      "(526, 800)\n",
      "(800, 526)\n"
     ]
    }
   ],
   "source": [
    "print(img.size)\n",
    "print(img.size[::-1])\n",
    "#[image.size[::-1]]"
   ]
  },
  {
   "cell_type": "code",
   "execution_count": 26,
   "id": "2582bf41-2a9b-42d4-af86-a2cf92002007",
   "metadata": {},
   "outputs": [],
   "source": [
    "nameRegex = re.compile(r\"\\./images_to_test_sys(/.*)\\.\\w+$\")\n",
    "mo = nameRegex.search(sample[0])\n",
    "image_name = mo.group(1)"
   ]
  },
  {
   "cell_type": "code",
   "execution_count": 27,
   "id": "80d5f59d-299a-4ffe-ae5a-072fa6fb35d7",
   "metadata": {},
   "outputs": [],
   "source": [
    "image = cv2.imread(sample[0])"
   ]
  },
  {
   "cell_type": "markdown",
   "id": "9fd946a3-5e44-4c8c-b59d-76895f7b3789",
   "metadata": {},
   "source": [
    "# Old version.\n",
    "\n",
    "Try running the cell from next cell"
   ]
  },
  {
   "cell_type": "code",
   "execution_count": 171,
   "id": "f7fd24ab-6bc7-45d2-b6e7-2756f2de0e7f",
   "metadata": {},
   "outputs": [
    {
     "name": "stdout",
     "output_type": "stream",
     "text": [
      "526 800\n"
     ]
    }
   ],
   "source": [
    "# OPENCV's method based on Omar's and Alexio's Algorithm\n",
    "cuts_path = \"./output_cropped_images/\"\n",
    "hgt, wid, channels = image.shape\n",
    "#img.show()\n",
    "print(wid, hgt)\n",
    "nb_row = 3\n",
    "nbr = 1\n",
    "Wim = wid//nb_row\n",
    "Him = hgt//nb_row\n",
    "\n",
    "total_tiles = {}\n",
    "group_tiles = []\n",
    "all_titles = []\n",
    "for k in range(1, nb_row+1):\n",
    "    for i in range(0, nb_row-k+1):\n",
    "        for j in range(0, nb_row-k+1):\n",
    "            \n",
    "            y = Him*j\n",
    "            corr_height = Him * (j+k)\n",
    "            #y1 = corr_height + nb_row\n",
    "            x = Wim*i\n",
    "            corr_width = Wim * (i+k)\n",
    "            #x1 = corr_width + nbr                         \n",
    "            height_cut = corr_height - y\n",
    "            width_cut = corr_width - x\n",
    "            cut_dims = (height_cut, width_cut)\n",
    "            if cut_dims not in total_tiles.keys():\n",
    "                group_tiles = []\n",
    "                \n",
    "            # coordinates are wrong, double check them with team\n",
    "            top_left_pixel = (x, corr_height)\n",
    "            bottom_right_pixel = (y, corr_width)\n",
    "            coordinates = [top_left_pixel, bottom_right_pixel]\n",
    "            \n",
    "            tiles = image[y:corr_height, x:corr_width]\n",
    "\n",
    "            #group_tiles.append(tiles)  # we need the dims to draw the rectangles, not the tiles\n",
    "            group_tiles.append(coordinates)\n",
    "            total_tiles.setdefault(cut_dims, group_tiles)\n",
    "            \n",
    "            title = cuts_path + image_name + '_opencv_cut'+str(nbr)+'.jpeg'       \n",
    "                        \n",
    "            # cv2.imwrite('saved_patches/'+'tile'+str(x)+'_'+str(y)+'.jpg', tiles)\n",
    "            cv2.imwrite(title, tiles)\n",
    "            #cv2.rectangle(image, (y, corr_height), (x, corr_width), (0, 255, 0), 1)            \n",
    "            all_titles.append(title)\n",
    "            \n",
    "            nbr += 1           \n",
    "#plt.imshow(image[:, :, ::-1])    "
   ]
  },
  {
   "cell_type": "markdown",
   "id": "3c5915cf-df1c-4360-8266-04be8ee05338",
   "metadata": {},
   "source": [
    "# Refactored Omar's and Alexio's cutting version of the algorithm"
   ]
  },
  {
   "cell_type": "code",
   "execution_count": 28,
   "id": "3bd90afe-2264-4a00-89d4-037c81c6c0a1",
   "metadata": {},
   "outputs": [],
   "source": [
    "def imcrop(img, bbox): \n",
    "    x1,y1,x2,y2 = bbox\n",
    "    if x1 < 0 or y1 < 0 or x2 > img.shape[1] or y2 > img.shape[0]:\n",
    "        img, x1, x2, y1, y2 = pad_img_to_fit_bbox(img, x1, x2, y1, y2)    \n",
    "    return img[y1:y2, x1:x2, :]\n",
    "\n",
    "def pad_img_to_fit_bbox(img, x1, x2, y1, y2):\n",
    "    img = np.pad(img, ((np.abs(np.minimum(0, y1)), np.maximum(y2 - img.shape[0], 0)),\n",
    "               (np.abs(np.minimum(0, x1)), np.maximum(x2 - img.shape[1], 0)), (0,0)), mode=\"constant\")\n",
    "    y2 += np.abs(np.minimum(0, y1))\n",
    "    y1 += np.abs(np.minimum(0, y1))\n",
    "    x2 += np.abs(np.minimum(0, x1))\n",
    "    x1 += np.abs(np.minimum(0, x1))\n",
    "    \n",
    "    return img, x1, x2, y1, y2"
   ]
  },
  {
   "cell_type": "code",
   "execution_count": 29,
   "id": "352bc598-f361-4e74-bbd4-c9580ae7b768",
   "metadata": {},
   "outputs": [
    {
     "name": "stdout",
     "output_type": "stream",
     "text": [
      "526 800\n"
     ]
    }
   ],
   "source": [
    "cuts_path = \"./output_cropped_images/\"\n",
    "hgt, wid, channels = image.shape\n",
    "#img.show()\n",
    "print(wid, hgt)\n",
    "nb_row = 3\n",
    "nbr = 1\n",
    "Wim = wid//nb_row\n",
    "Him = hgt//nb_row\n",
    "\n",
    "all_titles = []\n",
    "\n",
    "for k in range(1, nb_row+1):\n",
    "    for i in range(0, nb_row-k+1):\n",
    "        for j in range(0, nb_row-k+1):\n",
    "\n",
    "            bbox = (Wim*i, Him*j, Wim*(i+k), Him*(j+k))\n",
    "            tiles = imcrop(image, bbox)\n",
    "\n",
    "            title = cuts_path + image_name + '_opencv_cut'+str(nbr)+'.jpeg'       \n",
    "            #title = cuts_path + image_name + '_opencv_cut'+str(nbr)+'.jpg'       \n",
    "                        \n",
    "            \n",
    "            cv2.imwrite(title, tiles)\n",
    "            #cv2.rectangle(image, (y, corr_height), (x, corr_width), (0, 255, 0), 1)            \n",
    "            all_titles.append(title)\n",
    "            nbr += 1    "
   ]
  },
  {
   "cell_type": "code",
   "execution_count": 30,
   "id": "baaec639-035d-46f7-a5d9-c3ca987b5063",
   "metadata": {},
   "outputs": [],
   "source": [
    "# for k in total_tiles:\n",
    "#     print('-'*8)\n",
    "#     image_copy = image.copy() \n",
    "#     for v in total_tiles[k]: \n",
    "#         cv2.rectangle(image_copy, v[0], v[1], (0, 255, 0), 1)\n",
    "#         print(v)\n",
    "#     cv2.imshow(\"Patched Image\",image_copy)\n",
    "#     cv2.waitKey(5000)\n",
    "#     cv2.destroyAllWindows()\n",
    "    \n",
    "    #plt.imshow(image_copy[:, :, ::-1])"
   ]
  },
  {
   "cell_type": "code",
   "execution_count": 31,
   "id": "894cc2f7-263b-4149-8fc0-e7a43b177b81",
   "metadata": {},
   "outputs": [],
   "source": [
    "liste_captions = predictive_step(all_titles)"
   ]
  },
  {
   "cell_type": "code",
   "execution_count": 32,
   "id": "42ff5954-d4fb-4e46-93bb-85717aee2260",
   "metadata": {},
   "outputs": [
    {
     "data": {
      "text/plain": [
       "['a forest filled with lots of trees and shrubs',\n",
       " 'a blurry photo of some rocks and trees',\n",
       " 'a blurry picture of a rocky area with trees and rocks',\n",
       " 'a painting of a forest with trees and a river',\n",
       " 'a waterfall that is in the middle of a forest',\n",
       " 'a river with a bunch of animals in it',\n",
       " 'a bird perched on top of a tree branch',\n",
       " 'a forest filled with lots of trees and bushes',\n",
       " 'a river with a bunch of trees on top of it',\n",
       " 'a river filled with lots of trees and shrubbery',\n",
       " 'a river filled with lots of water and trees',\n",
       " 'a stream of water flowing through a forested area',\n",
       " 'a river filled with lots of water and trees',\n",
       " 'a river flowing through a forest filled with trees']"
      ]
     },
     "execution_count": 32,
     "metadata": {},
     "output_type": "execute_result"
    }
   ],
   "source": [
    "liste_captions"
   ]
  },
  {
   "cell_type": "code",
   "execution_count": 12,
   "id": "2ba7dbd7-8b97-43d4-b896-ab83ea894c42",
   "metadata": {},
   "outputs": [],
   "source": [
    "#https://towardsdatascience.com/an-intuitive-explanation-of-sentence-bert-1984d144a868\n",
    "from sentence_transformers import SentenceTransformer, util\n",
    "model = SentenceTransformer('paraphrase-MiniLM-L6-v2')"
   ]
  },
  {
   "cell_type": "code",
   "execution_count": 13,
   "id": "b65bdaa4-cc98-45c3-a97f-ecdc47d33d15",
   "metadata": {},
   "outputs": [],
   "source": [
    "sentences = ['a forest filled with lots of trees and shrubs', 'a blurry photo of some rocks and trees',\n",
    "             'a blurry picture of a rocky area with trees and rocks', 'a painting of a forest with trees and a river',\n",
    "             'a waterfall that is in the middle of a forest', 'a river with a bunch of animals in it',\n",
    "             'a bird perched on top of a tree branch', 'a forest filled with lots of trees and bushes',\n",
    "             'a river with a bunch of trees on top of it', 'a river filled with lots of trees and shrubbery',\n",
    "             'a river filled with lots of water and trees', 'a stream of water flowing through a forested area',\n",
    "             'a river filled with lots of water and trees', 'a river flowing through a forest filled with trees']"
   ]
  },
  {
   "cell_type": "code",
   "execution_count": 19,
   "id": "e0e1b4d5-0c33-4a66-820d-d9fdda53b729",
   "metadata": {},
   "outputs": [
    {
     "name": "stdout",
     "output_type": "stream",
     "text": [
      "91\n",
      "a river filled with lots of water and trees \t\t a river filled with lots of water and trees \t\t Score: 1.0000\n",
      "a forest filled with lots of trees and shrubs \t\t a forest filled with lots of trees and bushes \t\t Score: 0.9904\n",
      "a blurry photo of some rocks and trees \t\t a blurry picture of a rocky area with trees and rocks \t\t Score: 0.9507\n",
      "a river filled with lots of trees and shrubbery \t\t a river filled with lots of water and trees \t\t Score: 0.9368\n",
      "a river filled with lots of trees and shrubbery \t\t a river filled with lots of water and trees \t\t Score: 0.9368\n",
      "a river with a bunch of trees on top of it \t\t a river filled with lots of water and trees \t\t Score: 0.9193\n",
      "a river with a bunch of trees on top of it \t\t a river filled with lots of water and trees \t\t Score: 0.9193\n",
      "a river with a bunch of trees on top of it \t\t a river filled with lots of trees and shrubbery \t\t Score: 0.9055\n",
      "a river with a bunch of trees on top of it \t\t a river flowing through a forest filled with trees \t\t Score: 0.8889\n",
      "a river filled with lots of trees and shrubbery \t\t a river flowing through a forest filled with trees \t\t Score: 0.8879\n",
      "a river filled with lots of water and trees \t\t a river flowing through a forest filled with trees \t\t Score: 0.8644\n",
      "a river filled with lots of water and trees \t\t a river flowing through a forest filled with trees \t\t Score: 0.8644\n",
      "a stream of water flowing through a forested area \t\t a river flowing through a forest filled with trees \t\t Score: 0.8486\n",
      "a river filled with lots of trees and shrubbery \t\t a stream of water flowing through a forested area \t\t Score: 0.7850\n",
      "a waterfall that is in the middle of a forest \t\t a river flowing through a forest filled with trees \t\t Score: 0.7624\n",
      "a river filled with lots of water and trees \t\t a stream of water flowing through a forested area \t\t Score: 0.7620\n",
      "a stream of water flowing through a forested area \t\t a river filled with lots of water and trees \t\t Score: 0.7620\n",
      "a painting of a forest with trees and a river \t\t a river with a bunch of trees on top of it \t\t Score: 0.7554\n",
      "a river with a bunch of animals in it \t\t a river filled with lots of water and trees \t\t Score: 0.7501\n",
      "a river with a bunch of animals in it \t\t a river filled with lots of water and trees \t\t Score: 0.7501\n",
      "a river with a bunch of trees on top of it \t\t a stream of water flowing through a forested area \t\t Score: 0.7489\n",
      "a painting of a forest with trees and a river \t\t a river flowing through a forest filled with trees \t\t Score: 0.7476\n",
      "a river with a bunch of animals in it \t\t a river with a bunch of trees on top of it \t\t Score: 0.7422\n",
      "a waterfall that is in the middle of a forest \t\t a stream of water flowing through a forested area \t\t Score: 0.7416\n",
      "a river with a bunch of animals in it \t\t a river filled with lots of trees and shrubbery \t\t Score: 0.7229\n",
      "a painting of a forest with trees and a river \t\t a waterfall that is in the middle of a forest \t\t Score: 0.7110\n",
      "a waterfall that is in the middle of a forest \t\t a river with a bunch of trees on top of it \t\t Score: 0.6984\n",
      "a painting of a forest with trees and a river \t\t a river filled with lots of trees and shrubbery \t\t Score: 0.6905\n",
      "a painting of a forest with trees and a river \t\t a river filled with lots of water and trees \t\t Score: 0.6890\n",
      "a painting of a forest with trees and a river \t\t a river filled with lots of water and trees \t\t Score: 0.6890\n",
      "a waterfall that is in the middle of a forest \t\t a river filled with lots of trees and shrubbery \t\t Score: 0.6712\n",
      "a forest filled with lots of trees and bushes \t\t a river flowing through a forest filled with trees \t\t Score: 0.6631\n",
      "a waterfall that is in the middle of a forest \t\t a river filled with lots of water and trees \t\t Score: 0.6557\n",
      "a waterfall that is in the middle of a forest \t\t a river filled with lots of water and trees \t\t Score: 0.6557\n",
      "a river with a bunch of animals in it \t\t a river flowing through a forest filled with trees \t\t Score: 0.6549\n",
      "a forest filled with lots of trees and shrubs \t\t a river flowing through a forest filled with trees \t\t Score: 0.6536\n",
      "a forest filled with lots of trees and bushes \t\t a river filled with lots of trees and shrubbery \t\t Score: 0.6309\n",
      "a forest filled with lots of trees and shrubs \t\t a river filled with lots of trees and shrubbery \t\t Score: 0.6278\n",
      "a painting of a forest with trees and a river \t\t a stream of water flowing through a forested area \t\t Score: 0.6234\n",
      "a forest filled with lots of trees and shrubs \t\t a stream of water flowing through a forested area \t\t Score: 0.6152\n",
      "a forest filled with lots of trees and bushes \t\t a stream of water flowing through a forested area \t\t Score: 0.6138\n",
      "a forest filled with lots of trees and shrubs \t\t a waterfall that is in the middle of a forest \t\t Score: 0.6017\n",
      "a waterfall that is in the middle of a forest \t\t a forest filled with lots of trees and bushes \t\t Score: 0.5951\n",
      "a river with a bunch of animals in it \t\t a stream of water flowing through a forested area \t\t Score: 0.5751\n",
      "a painting of a forest with trees and a river \t\t a forest filled with lots of trees and bushes \t\t Score: 0.5669\n",
      "a blurry photo of some rocks and trees \t\t a waterfall that is in the middle of a forest \t\t Score: 0.5629\n",
      "a forest filled with lots of trees and shrubs \t\t a painting of a forest with trees and a river \t\t Score: 0.5611\n",
      "a blurry photo of some rocks and trees \t\t a painting of a forest with trees and a river \t\t Score: 0.5475\n",
      "a blurry photo of some rocks and trees \t\t a forest filled with lots of trees and bushes \t\t Score: 0.5466\n",
      "a forest filled with lots of trees and bushes \t\t a river with a bunch of trees on top of it \t\t Score: 0.5399\n",
      "a painting of a forest with trees and a river \t\t a river with a bunch of animals in it \t\t Score: 0.5384\n",
      "a forest filled with lots of trees and shrubs \t\t a blurry photo of some rocks and trees \t\t Score: 0.5360\n",
      "a blurry picture of a rocky area with trees and rocks \t\t a waterfall that is in the middle of a forest \t\t Score: 0.5329\n",
      "a waterfall that is in the middle of a forest \t\t a river with a bunch of animals in it \t\t Score: 0.5294\n",
      "a forest filled with lots of trees and shrubs \t\t a river with a bunch of trees on top of it \t\t Score: 0.5286\n",
      "a blurry photo of some rocks and trees \t\t a river with a bunch of trees on top of it \t\t Score: 0.5160\n",
      "a forest filled with lots of trees and bushes \t\t a river filled with lots of water and trees \t\t Score: 0.5057\n",
      "a forest filled with lots of trees and bushes \t\t a river filled with lots of water and trees \t\t Score: 0.5057\n",
      "a blurry photo of some rocks and trees \t\t a stream of water flowing through a forested area \t\t Score: 0.4957\n",
      "a forest filled with lots of trees and shrubs \t\t a river filled with lots of water and trees \t\t Score: 0.4945\n",
      "a forest filled with lots of trees and shrubs \t\t a river filled with lots of water and trees \t\t Score: 0.4945\n",
      "a blurry picture of a rocky area with trees and rocks \t\t a painting of a forest with trees and a river \t\t Score: 0.4929\n",
      "a blurry picture of a rocky area with trees and rocks \t\t a forest filled with lots of trees and bushes \t\t Score: 0.4770\n",
      "a blurry photo of some rocks and trees \t\t a river filled with lots of trees and shrubbery \t\t Score: 0.4738\n",
      "a forest filled with lots of trees and shrubs \t\t a blurry picture of a rocky area with trees and rocks \t\t Score: 0.4661\n",
      "a blurry picture of a rocky area with trees and rocks \t\t a river with a bunch of trees on top of it \t\t Score: 0.4658\n",
      "a blurry photo of some rocks and trees \t\t a river filled with lots of water and trees \t\t Score: 0.4652\n",
      "a blurry photo of some rocks and trees \t\t a river filled with lots of water and trees \t\t Score: 0.4652\n",
      "a blurry picture of a rocky area with trees and rocks \t\t a stream of water flowing through a forested area \t\t Score: 0.4645\n",
      "a blurry photo of some rocks and trees \t\t a river flowing through a forest filled with trees \t\t Score: 0.4613\n",
      "a blurry picture of a rocky area with trees and rocks \t\t a river filled with lots of water and trees \t\t Score: 0.4244\n",
      "a blurry picture of a rocky area with trees and rocks \t\t a river filled with lots of water and trees \t\t Score: 0.4244\n",
      "a blurry picture of a rocky area with trees and rocks \t\t a river filled with lots of trees and shrubbery \t\t Score: 0.4229\n",
      "a blurry picture of a rocky area with trees and rocks \t\t a river flowing through a forest filled with trees \t\t Score: 0.4007\n",
      "a forest filled with lots of trees and shrubs \t\t a bird perched on top of a tree branch \t\t Score: 0.3654\n",
      "a bird perched on top of a tree branch \t\t a forest filled with lots of trees and bushes \t\t Score: 0.3642\n",
      "a blurry photo of some rocks and trees \t\t a river with a bunch of animals in it \t\t Score: 0.3592\n",
      "a blurry picture of a rocky area with trees and rocks \t\t a river with a bunch of animals in it \t\t Score: 0.3550\n",
      "a bird perched on top of a tree branch \t\t a river flowing through a forest filled with trees \t\t Score: 0.3194\n",
      "a waterfall that is in the middle of a forest \t\t a bird perched on top of a tree branch \t\t Score: 0.3135\n",
      "a river with a bunch of animals in it \t\t a forest filled with lots of trees and bushes \t\t Score: 0.2947\n",
      "a bird perched on top of a tree branch \t\t a river with a bunch of trees on top of it \t\t Score: 0.2918\n",
      "a forest filled with lots of trees and shrubs \t\t a river with a bunch of animals in it \t\t Score: 0.2786\n",
      "a bird perched on top of a tree branch \t\t a stream of water flowing through a forested area \t\t Score: 0.2735\n",
      "a bird perched on top of a tree branch \t\t a river filled with lots of trees and shrubbery \t\t Score: 0.2587\n",
      "a painting of a forest with trees and a river \t\t a bird perched on top of a tree branch \t\t Score: 0.2572\n",
      "a bird perched on top of a tree branch \t\t a river filled with lots of water and trees \t\t Score: 0.1845\n",
      "a bird perched on top of a tree branch \t\t a river filled with lots of water and trees \t\t Score: 0.1845\n",
      "a blurry photo of some rocks and trees \t\t a bird perched on top of a tree branch \t\t Score: 0.1721\n",
      "a blurry picture of a rocky area with trees and rocks \t\t a bird perched on top of a tree branch \t\t Score: 0.1038\n",
      "a river with a bunch of animals in it \t\t a bird perched on top of a tree branch \t\t Score: 0.0991\n"
     ]
    }
   ],
   "source": [
    "#encode the sentences \n",
    "embeddings = model.encode(sentences, convert_to_tensor=True)#compute the similarity scores\n",
    "cosine_scores = util.cos_sim(embeddings, embeddings)#compute/find the highest similarity scores\n",
    "pairs = []\n",
    "for i in range(len(cosine_scores)-1):\n",
    "    for j in range(i+1, len(cosine_scores)):\n",
    "        pairs.append({'index': [i, j], 'score': cosine_scores[i] \n",
    "                                                             [j]})#sort the scores in decreasing order \n",
    "pairs = sorted(pairs, key=lambda x: x['score'], reverse=True)\n",
    "print(len(pairs))\n",
    "#for pair in pairs[0:10]:\n",
    "for pair in pairs:\n",
    "    i, j = pair['index']\n",
    "    print(\"{} \\t\\t {} \\t\\t Score: {:.4f}\".format(sentences[i],\n",
    "                                  sentences[j], pair['score']))"
   ]
  },
  {
   "cell_type": "markdown",
   "id": "362b457c-9f79-44b4-b19d-db3a28043955",
   "metadata": {},
   "source": [
    "# IGNORE FOR NOW"
   ]
  },
  {
   "cell_type": "code",
   "execution_count": 33,
   "id": "bf494136-5279-4939-a0b7-3cf2a9796477",
   "metadata": {},
   "outputs": [
    {
     "name": "stdout",
     "output_type": "stream",
     "text": [
      "./output_cropped_images/original_demo_image_0_opencv_cut1.jpeg\n",
      "./output_cropped_images/original_demo_image_0_opencv_cut10.jpeg\n",
      "./output_cropped_images/original_demo_image_0_opencv_cut11.jpeg\n",
      "./output_cropped_images/original_demo_image_0_opencv_cut12.jpeg\n",
      "./output_cropped_images/original_demo_image_0_opencv_cut13.jpeg\n",
      "./output_cropped_images/original_demo_image_0_opencv_cut14.jpeg\n",
      "./output_cropped_images/original_demo_image_0_opencv_cut2.jpeg\n",
      "./output_cropped_images/original_demo_image_0_opencv_cut3.jpeg\n",
      "./output_cropped_images/original_demo_image_0_opencv_cut4.jpeg\n",
      "./output_cropped_images/original_demo_image_0_opencv_cut5.jpeg\n",
      "./output_cropped_images/original_demo_image_0_opencv_cut6.jpeg\n",
      "./output_cropped_images/original_demo_image_0_opencv_cut7.jpeg\n",
      "./output_cropped_images/original_demo_image_0_opencv_cut8.jpeg\n",
      "./output_cropped_images/original_demo_image_0_opencv_cut9.jpeg\n"
     ]
    }
   ],
   "source": [
    "crops = ImageDataset(cuts_path)\n",
    "for cut_im in crops:\n",
    "    print(cut_im)"
   ]
  },
  {
   "cell_type": "code",
   "execution_count": 43,
   "id": "49fcc220-d0ac-49b2-89b6-d0b455f90329",
   "metadata": {},
   "outputs": [
    {
     "name": "stdout",
     "output_type": "stream",
     "text": [
      "{'scores': tensor([0.0124, 0.0487, 0.0713, 0.0348, 0.0545, 0.0453, 0.0177, 0.0089, 0.0049,\n",
      "        0.0034, 0.0715, 0.0487, 0.0356, 0.0308, 0.0391, 0.0095, 0.0015, 0.0041,\n",
      "        0.0166, 0.0399, 0.0323, 0.0526, 0.0062, 0.0286, 0.0494, 0.0479, 0.0117,\n",
      "        0.0203, 0.0185, 0.0027, 0.0076, 0.0224, 0.0158, 0.0058, 0.0210, 0.0485,\n",
      "        0.0173, 0.0376, 0.0110, 0.0073, 0.0112, 0.0107, 0.0441, 0.0222, 0.0065,\n",
      "        0.0321, 0.0100, 0.0532, 0.0085, 0.0091, 0.0050, 0.0492, 0.0161, 0.0422,\n",
      "        0.0415, 0.0302, 0.0225, 0.0425, 0.0469, 0.0528, 0.0337, 0.0408, 0.0031,\n",
      "        0.0042, 0.0050, 0.0297, 0.0014, 0.0130, 0.0127, 0.0072, 0.0036, 0.0338,\n",
      "        0.0320, 0.0384, 0.0339, 0.0809, 0.0341, 0.0028, 0.0472, 0.0057, 0.0252,\n",
      "        0.0471, 0.0130, 0.0299, 0.0127, 0.0183, 0.0122, 0.0528, 0.0044, 0.0149,\n",
      "        0.0416, 0.0406, 0.0459, 0.0429, 0.0432, 0.0324, 0.0016, 0.0150, 0.0414,\n",
      "        0.0497], grad_fn=<UnbindBackward0>), 'labels': tensor([23, 25, 23, 25, 25, 25, 23, 23, 23, 25, 23, 23, 25, 23, 23, 25, 13,  1,\n",
      "        23, 25, 23, 23, 25, 23, 25, 23, 25, 25, 25, 23, 23, 23, 23, 25, 25, 25,\n",
      "        23, 25, 25, 25,  1, 25, 25, 25, 23, 25,  1, 23, 25, 25,  7, 25, 23, 25,\n",
      "        23, 23, 23, 25, 25, 25, 25, 25,  1, 23, 25, 23, 25, 25, 25, 19, 25, 25,\n",
      "        25, 23, 23, 25, 23, 23, 25, 19, 23, 25, 25, 25, 23, 23, 23, 25, 23, 23,\n",
      "        25, 25, 23, 25, 23, 23, 25, 25, 25, 25]), 'boxes': tensor([[ 7.1703e-03,  6.2858e+01,  3.9527e+00,  1.2566e+02],\n",
      "        [ 1.4011e+02,  3.0713e-01,  1.8170e+02,  3.1158e+01],\n",
      "        [ 1.6122e-01,  7.3072e+01,  6.7764e+01,  1.7462e+02],\n",
      "        [ 1.4265e+02,  1.1837e-01,  1.8847e+02,  1.4220e+01],\n",
      "        [ 8.8189e+01,  1.1632e-01,  1.9031e+02,  9.9879e+01],\n",
      "        [ 8.7875e+01,  5.7393e-01,  2.0434e+02,  1.5219e+02],\n",
      "        [ 1.3566e+02,  6.7843e+01,  1.7210e+02,  1.0104e+02],\n",
      "        [ 4.7098e+01,  9.1813e+00,  1.3909e+02,  9.7513e+01],\n",
      "        [ 5.6058e+01,  3.5843e-03,  1.1568e+02,  1.7237e+00],\n",
      "        [ 7.1598e+00, -1.7836e-02,  1.5239e+02,  4.3413e+00],\n",
      "        [ 1.6876e+02,  9.1749e+01,  2.3195e+02,  1.3385e+02],\n",
      "        [-1.5100e-02,  7.1784e+01,  4.1062e+01,  1.7450e+02],\n",
      "        [ 1.6856e+02,  5.7041e-01,  2.6590e+02,  1.7413e+02],\n",
      "        [ 2.0401e+02,  8.6385e+01,  2.6583e+02,  1.4089e+02],\n",
      "        [ 1.4294e+02,  1.7213e+02,  2.0402e+02,  1.7500e+02],\n",
      "        [-1.3788e-01,  7.7204e-02,  3.5364e+01,  8.7063e+01],\n",
      "        [ 1.4091e-01,  3.0307e-02,  2.1795e+01,  5.5221e+00],\n",
      "        [ 2.1597e+02,  1.9305e+01,  2.3616e+02,  3.0136e+01],\n",
      "        [ 1.9997e+02,  6.7467e+01,  2.6152e+02,  1.1653e+02],\n",
      "        [ 7.6257e+01,  1.9667e-01,  2.6456e+02,  1.0540e+02],\n",
      "        [ 1.7511e+02,  6.4841e+01,  2.6605e+02,  1.6904e+02],\n",
      "        [ 1.7704e+02,  5.5534e+01,  2.6562e+02,  1.3950e+02],\n",
      "        [ 2.5830e+02,  1.0366e+01,  2.6598e+02,  6.4434e+01],\n",
      "        [ 2.5926e+02,  1.1117e+02,  2.6600e+02,  1.6837e+02],\n",
      "        [ 1.4604e+02,  7.7962e-01,  2.2703e+02,  1.3272e+02],\n",
      "        [ 1.4723e+02,  4.4262e+01,  2.2782e+02,  1.3366e+02],\n",
      "        [ 2.5376e+02,  2.6316e+01,  2.6596e+02,  8.4124e+01],\n",
      "        [ 2.1260e+00, -2.3489e-01,  1.6794e+02,  1.5181e+02],\n",
      "        [ 1.3706e+02,  1.1066e-01,  1.7456e+02,  1.5315e+01],\n",
      "        [-7.0573e-03,  1.8652e+01,  3.0317e+00,  1.1875e+02],\n",
      "        [-3.8888e-03,  4.1780e+01,  4.1062e+00,  1.7249e+02],\n",
      "        [ 8.9540e+01,  2.5508e+01,  1.9304e+02,  1.5212e+02],\n",
      "        [ 1.4387e+01,  1.7342e+02,  8.1277e+01,  1.7499e+02],\n",
      "        [ 2.5337e+02,  3.6856e+01,  2.6596e+02,  6.9246e+01],\n",
      "        [ 2.5245e+02,  1.2420e+01,  2.6596e+02,  1.5953e+02],\n",
      "        [ 1.0463e+02,  1.0692e+00,  1.6759e+02,  6.5379e+01],\n",
      "        [ 2.2174e+02,  4.0599e+01,  2.6590e+02,  1.4327e+02],\n",
      "        [-1.8644e-01, -1.5695e-01,  1.6170e+02,  1.0224e+02],\n",
      "        [ 9.6315e+01,  1.9338e+01,  1.5908e+02,  1.0043e+02],\n",
      "        [ 1.9621e+02,  3.1093e+01,  2.2557e+02,  4.9773e+01],\n",
      "        [ 2.1624e+02,  2.5768e+01,  2.5873e+02,  5.4741e+01],\n",
      "        [ 2.2949e+02, -6.4788e-03,  2.6582e+02,  3.0859e+01],\n",
      "        [ 1.0920e+02,  2.3708e-01,  2.0118e+02,  9.9613e+01],\n",
      "        [ 6.1112e-01, -2.6924e-01,  1.9988e+02,  1.5683e+02],\n",
      "        [-8.4551e-04,  3.6390e+01,  6.5019e+00,  1.1098e+02],\n",
      "        [ 6.1905e-02, -8.5997e-02,  1.9952e+02,  1.0292e+02],\n",
      "        [ 2.0142e+02,  3.1010e+01,  2.3243e+02,  5.2243e+01],\n",
      "        [ 1.6241e+02,  9.3793e+01,  2.2453e+02,  1.3364e+02],\n",
      "        [ 3.2621e-03, -1.6976e-02,  2.0825e+01,  1.7498e+02],\n",
      "        [ 1.0341e+02,  4.1506e+01,  1.3589e+02,  6.2648e+01],\n",
      "        [ 5.7724e+01,  2.6307e-03,  1.7970e+02,  3.1686e+00],\n",
      "        [ 1.5114e+02,  1.2458e-01,  2.6524e+02,  6.3485e+01],\n",
      "        [ 9.5141e+00,  1.7311e+02,  1.8882e+02,  1.7498e+02],\n",
      "        [ 9.2319e+01,  8.6169e-01,  1.6389e+02,  9.9594e+01],\n",
      "        [ 4.6665e-02,  7.3908e+01,  3.6188e+01,  1.3595e+02],\n",
      "        [-8.5265e-01,  6.6807e+01,  1.2922e+02,  1.7457e+02],\n",
      "        [ 8.6337e-03,  6.7155e+01,  4.9087e+00,  9.2869e+01],\n",
      "        [ 1.4205e+02,  3.9234e+00,  2.0285e+02,  1.0401e+02],\n",
      "        [ 9.4714e+01,  3.4109e-03,  2.0089e+02,  9.9703e+01],\n",
      "        [-8.6766e-02,  1.3132e-02,  2.6591e+02,  1.7501e+02],\n",
      "        [ 1.5340e+00, -3.8427e-02,  1.8078e+02,  3.0553e+01],\n",
      "        [ 3.5899e-01,  5.7536e-02,  1.8278e+02,  1.7506e+02],\n",
      "        [ 2.5491e+02,  1.3540e-02,  2.6596e+02,  6.9162e+00],\n",
      "        [ 6.7704e-01,  7.8590e-04,  8.7563e+01,  1.0891e+01],\n",
      "        [ 2.1156e+02,  3.4206e-03,  2.6575e+02,  2.7367e+00],\n",
      "        [ 6.3515e+00,  1.7195e+02,  1.1637e+02,  1.7497e+02],\n",
      "        [-1.0437e-02, -1.3474e-01,  7.6668e+00,  2.7524e+01],\n",
      "        [-2.4192e-01,  7.0418e-02,  6.7119e+01,  1.7507e+02],\n",
      "        [ 6.9203e+01,  5.5635e-01,  1.1997e+02,  2.6898e+01],\n",
      "        [ 2.5693e+02,  3.3092e+01,  2.6597e+02,  7.6472e+01],\n",
      "        [ 2.4605e+02,  5.0192e-02,  2.6589e+02,  8.5835e+00],\n",
      "        [ 1.1377e+01,  3.2634e-01,  2.2147e+02,  1.5345e+02],\n",
      "        [ 1.5258e-01,  2.0254e-01,  2.2549e+02,  1.4827e+02],\n",
      "        [ 1.7415e+02,  8.0452e+01,  2.1876e+02,  1.3285e+02],\n",
      "        [ 1.6693e+02,  1.7270e+02,  2.2443e+02,  1.7499e+02],\n",
      "        [ 1.4954e+02,  2.0092e-01,  2.6602e+02,  1.3505e+02],\n",
      "        [ 5.0163e-02,  6.9595e+01,  2.9651e+01,  1.3872e+02],\n",
      "        [-2.4590e-02,  1.0209e+02,  8.8420e+00,  1.7478e+02],\n",
      "        [ 9.6921e+01,  2.2215e-01,  1.6902e+02,  3.0969e+01],\n",
      "        [ 2.5615e+02,  3.2043e+01,  2.6598e+02,  5.1490e+01],\n",
      "        [ 2.3579e+02,  6.1384e+01,  2.6603e+02,  1.6438e+02],\n",
      "        [ 9.8931e+01,  9.4513e-01,  1.6614e+02,  1.0019e+02],\n",
      "        [ 2.5933e+02,  3.5205e+01,  2.6601e+02,  1.6855e+02],\n",
      "        [ 8.6266e+01,  5.9388e-02,  1.8785e+02,  1.9146e+01],\n",
      "        [ 8.4015e-02,  5.4135e+01,  3.0325e+01,  1.0949e+02],\n",
      "        [ 2.1661e+02,  1.6814e+02,  2.6597e+02,  1.7496e+02],\n",
      "        [ 2.5912e+02,  6.0983e+01,  2.6598e+02,  1.0507e+02],\n",
      "        [ 1.1637e+02,  4.6975e-02,  2.6650e+02,  1.3442e+02],\n",
      "        [ 3.3029e+00,  8.4518e+01,  2.3850e+02,  1.7460e+02],\n",
      "        [ 1.3755e+02,  2.0466e+01,  2.1172e+02,  1.3558e+02],\n",
      "        [ 1.3127e+02,  5.0771e-01,  2.1790e+02,  1.3528e+02],\n",
      "        [ 1.6440e+02,  3.6748e-01,  2.6593e+02,  1.0449e+02],\n",
      "        [ 1.5159e+02,  4.3387e+01,  2.6295e+02,  1.3887e+02],\n",
      "        [ 1.4800e+02,  1.0740e+01,  1.9694e+02,  5.5840e+01],\n",
      "        [ 1.4753e+02,  6.2327e+01,  2.1293e+02,  1.3250e+02],\n",
      "        [ 1.2678e+02,  5.2539e+01,  2.4407e+02,  1.3925e+02],\n",
      "        [ 1.9543e-01,  2.9630e-02,  4.1412e+01,  1.0122e+01],\n",
      "        [ 1.6377e+02, -2.4950e-02,  2.6518e+02,  5.8878e+00],\n",
      "        [ 1.1593e+02,  8.3182e-01,  2.6484e+02,  1.6364e+02],\n",
      "        [ 1.4228e+02,  2.4410e-01,  2.0440e+02,  4.8505e+01]],\n",
      "       grad_fn=<UnbindBackward0>)}\n"
     ]
    }
   ],
   "source": [
    "cut_image = cv2.imread(crops[0])\n",
    "\n",
    "labels = cut_image.shape[:2]\n",
    "\n",
    "cut_image = Image.open(crops[0])\n",
    "\n",
    "inputs = obj_feature_extractor(images=cut_image, return_tensors=\"pt\")\n",
    "for i in inputs:\n",
    "    inputs[i] = inputs[i].to(device)\n",
    "\n",
    "outputs = obj_dect_model(**inputs)\n",
    "\n",
    "# convert outputs (bounding boxes and class logits) to COCO API\n",
    "target_sizes = torch.tensor([labels[::-1]])\n",
    "\n",
    "results = obj_feature_extractor.post_process(outputs, target_sizes=target_sizes)[0]\n",
    "\n",
    "for score, label, box in zip(results[\"scores\"], results[\"labels\"], results[\"boxes\"]):\n",
    "    box = [round(i, 2) for i in box.tolist()]\n",
    "    # let's only keep detections with score > 0.9\n",
    "    if score > 0.9:\n",
    "        print(\n",
    "            f\"Detected {obj_dect_model.config.id2label[label.item()]} with confidence \"\n",
    "            f\"{round(score.item(), 3)} at location {box}\"\n",
    "        )"
   ]
  },
  {
   "cell_type": "code",
   "execution_count": null,
   "id": "62e72c1a-97fd-40df-9c4b-f8c48e23b927",
   "metadata": {},
   "outputs": [],
   "source": [
    "# PIL\n",
    "# (0, 0, 175, 266)\n",
    "# (0, 266, 175, 532)\n",
    "# (0, 532, 175, 798)\n",
    "# (175, 0, 350, 266)\n",
    "# (175, 266, 350, 532)\n",
    "# (175, 532, 350, 798)\n",
    "# (350, 0, 525, 266)\n",
    "# (350, 266, 525, 532)\n",
    "# (350, 532, 525, 798)\n",
    "# (0, 0, 350, 532)\n",
    "# (0, 266, 350, 798)\n",
    "# (175, 0, 525, 532)\n",
    "# (175, 266, 525, 798)\n",
    "# (0, 0, 525, 798)\n",
    "# opencv\n",
    "# [(266, 175, 3),\n",
    "#  (266, 175, 3),\n",
    "#  (266, 175, 3),\n",
    "#  (266, 175, 3),\n",
    "#  (266, 175, 3),\n",
    "#  (266, 175, 3),\n",
    "#  (266, 175, 3),\n",
    "#  (266, 175, 3),\n",
    "#  (266, 175, 3),\n",
    "#  (532, 350, 3),\n",
    "#  (532, 350, 3),\n",
    "#  (532, 350, 3),\n",
    "#  (532, 350, 3),\n",
    "#  (798, 525, 3)]"
   ]
  }
 ],
 "metadata": {
  "kernelspec": {
   "display_name": "Python 3 (ipykernel)",
   "language": "python",
   "name": "python3"
  },
  "language_info": {
   "codemirror_mode": {
    "name": "ipython",
    "version": 3
   },
   "file_extension": ".py",
   "mimetype": "text/x-python",
   "name": "python",
   "nbconvert_exporter": "python",
   "pygments_lexer": "ipython3",
   "version": "3.10.6"
  }
 },
 "nbformat": 4,
 "nbformat_minor": 5
}
